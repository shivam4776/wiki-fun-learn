{
 "cells": [
  {
   "cell_type": "code",
   "execution_count": 28,
   "id": "0dc160c7",
   "metadata": {},
   "outputs": [],
   "source": [
    "Topic= input(str(\"\"))"
   ]
  },
  {
   "cell_type": "code",
   "execution_count": null,
   "id": "ff3b94ce",
   "metadata": {},
   "outputs": [],
   "source": [
    "# WIKIPEDIA\n",
    "from langchain_community.tools import WikipediaQueryRun \n",
    "from langchain_community.utilities import WikipediaAPIWrapper\n",
    "\n",
    "wikipedia_search= WikipediaQueryRun(api_wrapper= WikipediaAPIWrapper())\n"
   ]
  },
  {
   "cell_type": "code",
   "execution_count": 35,
   "id": "89519845",
   "metadata": {},
   "outputs": [],
   "source": [
    "# PROMPT\n",
    "from langchain_core.prompts import PromptTemplate\n",
    "\n",
    "prompt= PromptTemplate(\n",
    "    template= \"\"\"\n",
    "    Take the following text and summarize it in a short, simple, and funny story format, like you're telling it to a 10-year-old with a big imagination. Add playful analogies, silly metaphors, and keep it light and entertaining — but still accurate.Limit the number of words to 150. Also don't repeat my words (like this: Okay, I need to help create a fun story for a 10-year-old based on the info from these pages.), only print the story in the output. That's it!!,\n",
    "    Here is the text:{content}\n",
    "    \"\"\",\n",
    "    input_variables= ['content']\n",
    ")\n",
    "\n",
    "\n",
    "\n"
   ]
  },
  {
   "cell_type": "code",
   "execution_count": 36,
   "id": "83dc702a",
   "metadata": {},
   "outputs": [],
   "source": [
    "# LLM MODEL & PARSER\n",
    "\n",
    "from langchain_huggingface import ChatHuggingFace, HuggingFaceEndpoint\n",
    "from langchain_core.output_parsers import StrOutputParser\n",
    "\n",
    "llm = HuggingFaceEndpoint(\n",
    "    repo_id= 'deepseek-ai/DeepSeek-R1-0528',\n",
    "    task= 'text-generation'\n",
    ")\n",
    "model= ChatHuggingFace(llm= llm)\n",
    "\n",
    "parser= StrOutputParser()\n",
    "\n"
   ]
  },
  {
   "cell_type": "code",
   "execution_count": 37,
   "id": "59598976",
   "metadata": {},
   "outputs": [
    {
     "name": "stdout",
     "output_type": "stream",
     "text": [
      "<think>\n",
      "Okay, the user wants me to create a fun, imaginative story about Kapil Dev for a 10-year-old. I need to transform all this cricket information into something entertaining with playful analogies and silly metaphors, while keeping it accurate. \n",
      "\n",
      "Hmm, looking at the text... Kapil Dev was an Indian cricket legend - incredible all-rounder (that's like being both a superhero pitcher AND batter!), won the 1983 World Cup as youngest captain ever, smashed records like 400+ wickets and 5000+ runs combo. Later became coach and got shiny awards. Also that confusing bit about \"The Great Indian Kapil Show\" seems unrelated, probably a copy-paste error.\n",
      "\n",
      "For the kid-friendly angle, I'm imagining cricket balls as grumpy trolls needing to be \"magicked\" away. His batting could be a thunderstorm making sparks! The World Cup win should feel like an underdog fairy tale - especially that unforgettable 175* score while bleeding. \n",
      "\n",
      "Important to highlight he's:\n",
      "✅ The only player EVER with 400+ wickets/5000+ runs\n",
      "✅ Youngest World Cup captain (24!)\n",
      "✅ Record-breaker later broken by others (perfect chance for playful rivalry metaphors)\n",
      "\n",
      "Counting words... must stay under 150. I'll avoid stats-heavy language - instead of \"434 wickets\" say \"knocking over heaps of wickets everywhere\". Awards become \"magical medals\", Hall of Fame turns into \"cricket wizard honor\". Retiring as record-holder then coaching? That's \"teaching new heroes after hanging up his lightning boots\"!\n",
      "\n",
      "The unrelated TV show part I'll omit entirely - seems like a pasting mistake. Final check: all facts verified (dates, records, achievements), packaged with maximum giggles per sentence. Ready to spin this true tale!\n",
      "</think>\n",
      "Once upon a time, a mighty cricket wizard named Kapil lived in India. He swung his magic willow bat like a thunderstorm, cracking the ball to Kingdom Come! But his *real* trick was his sneaky thunder-arm bowling – he magicked grumpy troll wickets away over 400 times in Tests, while *also* chasing down mountains of runs (over 5000!).\n",
      "\n",
      "While only 24 summers old, this wizard became captain and did the impossible! He led his team of underdogs to snatch the shiny Cricket World Cup trophy in 1983 – the first Indian sorcerer to do it! He even scored a secret, heroic 175 when everyone else fell asleep at the party. He knocked over bucket-loads of troll wickets (24 big hauls of 5 or more!), held the biggest spell sack for cricket for a while, and won sparkling medals like the Padma Shri and a lifetime gold star.\n",
      "\n",
      "When he finally hung up his lightning boots, he became Wise Coach Kapil, teaching new cricket superheroes his awesome tricks to zap the stumps! Truly, India’s grand cricket wizard.\n"
     ]
    }
   ],
   "source": [
    "FinalChain= wikipedia_search| prompt | model | parser\n",
    "\n",
    "FunnySummary= FinalChain.invoke('Kapil Dev Cricketer')\n",
    "\n",
    "print(FunnySummary)"
   ]
  },
  {
   "cell_type": "code",
   "execution_count": null,
   "id": "5e1f708b",
   "metadata": {},
   "outputs": [],
   "source": []
  },
  {
   "cell_type": "code",
   "execution_count": null,
   "id": "7725cc29",
   "metadata": {},
   "outputs": [],
   "source": []
  },
  {
   "cell_type": "code",
   "execution_count": null,
   "id": "ec7d0950",
   "metadata": {},
   "outputs": [],
   "source": []
  }
 ],
 "metadata": {
  "kernelspec": {
   "display_name": "langchainVirtualEnv",
   "language": "python",
   "name": "python3"
  },
  "language_info": {
   "codemirror_mode": {
    "name": "ipython",
    "version": 3
   },
   "file_extension": ".py",
   "mimetype": "text/x-python",
   "name": "python",
   "nbconvert_exporter": "python",
   "pygments_lexer": "ipython3",
   "version": "3.10.11"
  }
 },
 "nbformat": 4,
 "nbformat_minor": 5
}
